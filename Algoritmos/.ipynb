{
 "cells": [
  {
   "cell_type": "code",
   "execution_count": 1,
   "metadata": {
    "scrolled": false
   },
   "outputs": [
    {
     "name": "stdout",
     "output_type": "stream",
     "text": [
      "Requirement already satisfied: face_recognition in c:\\users\\tales\\anaconda3\\lib\\site-packages (1.3.0)\n",
      "Requirement already satisfied: face-recognition-models>=0.3.0 in c:\\users\\tales\\anaconda3\\lib\\site-packages (from face_recognition) (0.3.0)\n",
      "Requirement already satisfied: numpy in c:\\users\\tales\\anaconda3\\lib\\site-packages (from face_recognition) (1.18.5)\n",
      "Requirement already satisfied: Pillow in c:\\users\\tales\\anaconda3\\lib\\site-packages (from face_recognition) (5.4.1)\n",
      "Requirement already satisfied: dlib>=19.7 in c:\\users\\tales\\anaconda3\\lib\\site-packages (from face_recognition) (19.22.1)\n",
      "Requirement already satisfied: Click>=6.0 in c:\\users\\tales\\anaconda3\\lib\\site-packages (from face_recognition) (7.0)\n"
     ]
    }
   ],
   "source": [
    "!pip install face_recognition"
   ]
  },
  {
   "cell_type": "code",
   "execution_count": 2,
   "metadata": {
    "scrolled": true
   },
   "outputs": [
    {
     "name": "stdout",
     "output_type": "stream",
     "text": [
      "Requirement already up-to-date: scikit-learn in c:\\users\\tales\\anaconda3\\lib\\site-packages (1.0.1)\n",
      "Requirement already satisfied, skipping upgrade: threadpoolctl>=2.0.0 in c:\\users\\tales\\anaconda3\\lib\\site-packages (from scikit-learn) (3.0.0)\n",
      "Requirement already satisfied, skipping upgrade: joblib>=0.11 in c:\\users\\tales\\anaconda3\\lib\\site-packages (from scikit-learn) (1.1.0)\n",
      "Requirement already satisfied, skipping upgrade: numpy>=1.14.6 in c:\\users\\tales\\anaconda3\\lib\\site-packages (from scikit-learn) (1.18.5)\n",
      "Requirement already satisfied, skipping upgrade: scipy>=1.1.0 in c:\\users\\tales\\anaconda3\\lib\\site-packages (from scikit-learn) (1.4.1)\n"
     ]
    }
   ],
   "source": [
    "!pip install scikit-learn --upgrade"
   ]
  },
  {
   "cell_type": "code",
   "execution_count": null,
   "metadata": {},
   "outputs": [],
   "source": [
    "import cv2\n",
    "from functions import calculoAU, Anger, Hapiness, Surprise, Sadness, Fear, Disgust\n",
    "import face_recognition\n",
    "import pickle\n",
    "import pandas as pd\n",
    "\n",
    "model = input(print(\"Dgite qual modelo você quer usar: \"))\n",
    "\n",
    "modelo = open(str(model),'rb')\n",
    "\n",
    "new = pickle.load(modelo)\n",
    "\n",
    "modelo.close()\n",
    "\n",
    "cap = cv2.VideoCapture(0)\n",
    "\n",
    "while(True):\n",
    "    #lê cada quadro do vídeo e carrega na varíavel frame\n",
    "    _, frame = cap.read()\n",
    "  \n",
    "    cv2.imshow(\"Aperte S para Capturar a emocao Neutra\",frame)\n",
    "    \n",
    "    if cv2.waitKey(1) & 0xFF == ord('s'): #save on pressing 'y' \n",
    "        referencia = frame\n",
    "        cv2.destroyAllWindows()\n",
    "        break\n",
    "\n",
    "cap.release()  \n",
    "\n",
    "cap = cv2.VideoCapture(0)\n",
    "\n",
    "i=0\n",
    "\n",
    "while(True):\n",
    "    #lê cada quadro do vídeo e carrega na varíavel frame\n",
    "    _, frame = cap.read()\n",
    "    \n",
    "    #vid_fps = cap.get(cv2.CAP_PROP_FPS)\n",
    "    if face_recognition.face_landmarks(frame):\n",
    "        \n",
    "        result = list(calculoAU(referencia, frame))\n",
    "        \n",
    "        entrada = [result]\n",
    "        \n",
    "        if new.predict(entrada)[0] == 1:\n",
    "            a = \"Raiva\"\n",
    "        elif new.predict(entrada)[0] == 3:\n",
    "            a = \"Nojo\"\n",
    "        elif new.predict(entrada)[0] == 4:\n",
    "            a = \"Medo\"\n",
    "        elif new.predict(entrada)[0] == 5:\n",
    "            a = \"Alegria\"\n",
    "        elif new.predict(entrada)[0] == 6:\n",
    "            a = \"Tristeza\"\n",
    "        elif new.predict(entrada)[0] == 7:\n",
    "            a = \"Surpresa\"\n",
    "        elif new.predict(entrada)[0] == 8:\n",
    "            a = \"Neutro\"\n",
    "        \n",
    "        print(a)\n",
    "        \n",
    "    i=i+1 \n",
    "    \n",
    "    cv2.imshow(\"Captura- Aperte Q para sair\",frame)\n",
    "      \n",
    "    if cv2.waitKey(1) & 0xFF == ord('q'):\n",
    "        break\n",
    "\n",
    "cap.release() \n",
    "\n",
    "cv2.destroyAllWindows()"
   ]
  },
  {
   "cell_type": "code",
   "execution_count": null,
   "metadata": {},
   "outputs": [],
   "source": []
  },
  {
   "cell_type": "code",
   "execution_count": null,
   "metadata": {},
   "outputs": [],
   "source": []
  }
 ],
 "metadata": {
  "kernelspec": {
   "display_name": "Python 3",
   "language": "python",
   "name": "python3"
  },
  "language_info": {
   "codemirror_mode": {
    "name": "ipython",
    "version": 3
   },
   "file_extension": ".py",
   "mimetype": "text/x-python",
   "name": "python",
   "nbconvert_exporter": "python",
   "pygments_lexer": "ipython3",
   "version": "3.7.3"
  }
 },
 "nbformat": 4,
 "nbformat_minor": 2
}
