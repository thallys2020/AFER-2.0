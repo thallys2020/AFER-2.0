{
 "cells": [
  {
   "cell_type": "code",
   "execution_count": 2,
   "metadata": {},
   "outputs": [
    {
     "ename": "ModuleNotFoundError",
     "evalue": "No module named 'face_recognition'",
     "output_type": "error",
     "traceback": [
      "\u001b[1;31m---------------------------------------------------------------------------\u001b[0m",
      "\u001b[1;31mModuleNotFoundError\u001b[0m                       Traceback (most recent call last)",
      "\u001b[1;32m<ipython-input-2-2c66592abc73>\u001b[0m in \u001b[0;36m<module>\u001b[1;34m\u001b[0m\n\u001b[0;32m      1\u001b[0m \u001b[1;32mimport\u001b[0m \u001b[0mnumpy\u001b[0m \u001b[1;32mas\u001b[0m \u001b[0mnp\u001b[0m\u001b[1;33m\u001b[0m\u001b[1;33m\u001b[0m\u001b[0m\n\u001b[0;32m      2\u001b[0m \u001b[1;32mimport\u001b[0m \u001b[0mcv2\u001b[0m\u001b[1;33m\u001b[0m\u001b[1;33m\u001b[0m\u001b[0m\n\u001b[1;32m----> 3\u001b[1;33m \u001b[1;32mimport\u001b[0m \u001b[0mface_recognition\u001b[0m\u001b[1;33m\u001b[0m\u001b[1;33m\u001b[0m\u001b[0m\n\u001b[0m\u001b[0;32m      4\u001b[0m \u001b[1;33m\u001b[0m\u001b[0m\n\u001b[0;32m      5\u001b[0m \u001b[0mcap\u001b[0m \u001b[1;33m=\u001b[0m \u001b[0mcv2\u001b[0m\u001b[1;33m.\u001b[0m\u001b[0mVideoCapture\u001b[0m\u001b[1;33m(\u001b[0m\u001b[1;36m0\u001b[0m\u001b[1;33m)\u001b[0m\u001b[1;33m\u001b[0m\u001b[1;33m\u001b[0m\u001b[0m\n",
      "\u001b[1;31mModuleNotFoundError\u001b[0m: No module named 'face_recognition'"
     ]
    }
   ],
   "source": [
    "import numpy as np\n",
    "import cv2\n",
    "import face_recognition\n",
    "\n",
    "cap = cv2.VideoCapture(0)\n",
    "\n",
    "while(True):\n",
    "    # Capture frame-by-frame\n",
    "    ret, frame = cap.read()\n",
    "\n",
    "    # Our operations on the frame come here\n",
    "    gray = cv2.cvtColor(frame, cv2.COLOR_BGR2GRAY)\n",
    "\n",
    "    # Display the resulting frame\n",
    "    cv2.imshow('frame',gray)\n",
    "    if cv2.waitKey(1) & 0xFF == ord('q'):\n",
    "        break\n",
    "\n",
    "# When everything done, release the capture\n",
    "cap.release()\n",
    "cv2.destroyAllWindows()"
   ]
  },
  {
   "cell_type": "code",
   "execution_count": 4,
   "metadata": {},
   "outputs": [
    {
     "name": "stdout",
     "output_type": "stream",
     "text": [
      "Requirement already satisfied: face_recognition in c:\\users\\tales\\anaconda3\\lib\\site-packages (1.3.0)\n",
      "Requirement already satisfied: Pillow in c:\\users\\tales\\anaconda3\\lib\\site-packages (from face_recognition) (5.4.1)\n",
      "Requirement already satisfied: numpy in c:\\users\\tales\\anaconda3\\lib\\site-packages (from face_recognition) (1.18.5)\n",
      "Requirement already satisfied: Click>=6.0 in c:\\users\\tales\\anaconda3\\lib\\site-packages (from face_recognition) (7.0)\n",
      "Requirement already satisfied: face-recognition-models>=0.3.0 in c:\\users\\tales\\anaconda3\\lib\\site-packages (from face_recognition) (0.3.0)\n",
      "Requirement already satisfied: dlib>=19.7 in c:\\users\\tales\\anaconda3\\lib\\site-packages (from face_recognition) (19.22.1)\n"
     ]
    }
   ],
   "source": [
    "!pip install face_recognition"
   ]
  },
  {
   "cell_type": "code",
   "execution_count": 5,
   "metadata": {},
   "outputs": [],
   "source": [
    "import face_recognition"
   ]
  },
  {
   "cell_type": "code",
   "execution_count": 2,
   "metadata": {},
   "outputs": [
    {
     "name": "stdout",
     "output_type": "stream",
     "text": [
      "Dgite qual modelo você quer usar: \n",
      "NoneModelo SVM Masculino Desbalanceado\n"
     ]
    },
    {
     "ename": "ModuleNotFoundError",
     "evalue": "No module named 'sklearn.svm._classes'",
     "output_type": "error",
     "traceback": [
      "\u001b[1;31m---------------------------------------------------------------------------\u001b[0m",
      "\u001b[1;31mModuleNotFoundError\u001b[0m                       Traceback (most recent call last)",
      "\u001b[1;32m<ipython-input-2-89f1cb1f13fc>\u001b[0m in \u001b[0;36m<module>\u001b[1;34m\u001b[0m\n\u001b[0;32m     26\u001b[0m \u001b[0mmodelo\u001b[0m \u001b[1;33m=\u001b[0m \u001b[0mopen\u001b[0m\u001b[1;33m(\u001b[0m\u001b[0mstr\u001b[0m\u001b[1;33m(\u001b[0m\u001b[0mmodel\u001b[0m\u001b[1;33m)\u001b[0m\u001b[1;33m,\u001b[0m\u001b[1;34m'rb'\u001b[0m\u001b[1;33m)\u001b[0m\u001b[1;33m\u001b[0m\u001b[1;33m\u001b[0m\u001b[0m\n\u001b[0;32m     27\u001b[0m \u001b[1;33m\u001b[0m\u001b[0m\n\u001b[1;32m---> 28\u001b[1;33m \u001b[0mnew\u001b[0m \u001b[1;33m=\u001b[0m \u001b[0mpickle\u001b[0m\u001b[1;33m.\u001b[0m\u001b[0mload\u001b[0m\u001b[1;33m(\u001b[0m\u001b[0mmodelo\u001b[0m\u001b[1;33m)\u001b[0m\u001b[1;33m\u001b[0m\u001b[1;33m\u001b[0m\u001b[0m\n\u001b[0m\u001b[0;32m     29\u001b[0m \u001b[1;33m\u001b[0m\u001b[0m\n\u001b[0;32m     30\u001b[0m \u001b[0mmodelo\u001b[0m\u001b[1;33m.\u001b[0m\u001b[0mclose\u001b[0m\u001b[1;33m(\u001b[0m\u001b[1;33m)\u001b[0m\u001b[1;33m\u001b[0m\u001b[1;33m\u001b[0m\u001b[0m\n",
      "\u001b[1;31mModuleNotFoundError\u001b[0m: No module named 'sklearn.svm._classes'"
     ]
    }
   ],
   "source": [
    "# -*- coding: utf-8 -*-\n",
    "\"\"\"\n",
    "Created on Thu Aug 12 23:06:24 2021\n",
    "\n",
    "@author: tales\n",
    "\"\"\"\n",
    "\n",
    "import cv2\n",
    "from functions import calculoAU, Anger, Hapiness, Surprise, Sadness, Fear, Disgust\n",
    "import face_recognition\n",
    "import pickle\n",
    "import pandas as pd\n",
    "#import mysql.connector\n",
    "\n",
    "\"\"\"banco = mysql.connector.connect(\n",
    "        host = \"localhost\",\n",
    "        user = \"root\",\n",
    "        passwd = \"32331716\",\n",
    "        database = \"afer\"\n",
    ")\n",
    "\n",
    "cursor = banco.cursor()\"\"\"\n",
    "\n",
    "model = input(print(\"Dgite qual modelo você quer usar: \"))\n",
    "\n",
    "modelo = open(str(model),'rb')\n",
    "\n",
    "new = pickle.load(modelo)\n",
    "\n",
    "modelo.close()\n",
    "\n",
    "cap = cv2.VideoCapture(0)\n",
    "\n",
    "while(True):\n",
    "    #lê cada quadro do vídeo e carrega na varíavel frame\n",
    "    _, frame = cap.read()\n",
    "  \n",
    "    cv2.imshow(\"Pressione S para Capturar a emocao Neutra\",frame)\n",
    "    \n",
    "    if cv2.waitKey(1) & 0xFF == ord('s'): #save on pressing 'y' \n",
    "        referencia = frame\n",
    "        cv2.destroyAllWindows()\n",
    "        break\n",
    "\n",
    "cap.release()  \n",
    "\n",
    "cap = cv2.VideoCapture(0)\n",
    "i=0\n",
    "while(True):\n",
    "    #lê cada quadro do vídeo e carrega na varíavel frame\n",
    "    _, frame = cap.read()\n",
    "    \n",
    "    #vid_fps = cap.get(cv2.CAP_PROP_FPS)\n",
    "    if face_recognition.face_landmarks(frame):\n",
    "        \n",
    "        result = list(calculoAU(referencia, frame))\n",
    "        \n",
    "        entrada = [result]\n",
    "        \n",
    "        if new.predict(entrada)[0] == 1:\n",
    "            a = \"Raiva\"\n",
    "        elif new.predict(entrada)[0] == 3:\n",
    "            a = \"Nojo\"\n",
    "        elif new.predict(entrada)[0] == 4:\n",
    "            a = \"Medo\"\n",
    "        elif new.predict(entrada)[0] == 5:\n",
    "            a = \"Alegria\"\n",
    "        elif new.predict(entrada)[0] == 6:\n",
    "            a = \"Tristeza\"\n",
    "        elif new.predict(entrada)[0] == 7:\n",
    "            a = \"Surpresa\"\n",
    "        elif new.predict(entrada)[0] == 8:\n",
    "            a = \"Neutro\"\n",
    "        \n",
    "        print(a)\n",
    "        \n",
    "        #comando_SQL = \"INSERT INTO results (idresults, frame, emoção) VALUES (%s, %s, %s)\"\n",
    "\n",
    "        #dados = (i,i, a)\n",
    "\n",
    "        #cursor.execute(comando_SQL, dados)\n",
    "\n",
    "        #banco.commit()\n",
    "    i=i+1  \n",
    "    cv2.imshow(\"Captura\",frame)\n",
    "      \n",
    "    if cv2.waitKey(1) & 0xFF == ord('q'):\n",
    "        break\n",
    "\n",
    "cap.release() \n",
    "\n",
    "cv2.destroyAllWindows()"
   ]
  },
  {
   "cell_type": "code",
   "execution_count": null,
   "metadata": {},
   "outputs": [],
   "source": []
  }
 ],
 "metadata": {
  "kernelspec": {
   "display_name": "Python 3",
   "language": "python",
   "name": "python3"
  }
 },
 "nbformat": 4,
 "nbformat_minor": 2
}
